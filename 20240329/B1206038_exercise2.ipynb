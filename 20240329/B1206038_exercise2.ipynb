{
  "nbformat": 4,
  "nbformat_minor": 0,
  "metadata": {
    "colab": {
      "provenance": []
    },
    "kernelspec": {
      "name": "python3",
      "display_name": "Python 3"
    },
    "language_info": {
      "name": "python"
    }
  },
  "cells": [
    {
      "cell_type": "code",
      "execution_count": 11,
      "metadata": {
        "colab": {
          "base_uri": "https://localhost:8080/"
        },
        "id": "6CvUHggRwT3h",
        "outputId": "41b217fc-4ad8-433a-9021-df9a66fca94c"
      },
      "outputs": [
        {
          "output_type": "stream",
          "name": "stdout",
          "text": [
            "{'姓名': '陳妘昀', '性別': '女', '作業分數': [100, 100, 90], '學號': 'B1206038'}\n",
            "平均分數: 96.66666666666667\n"
          ]
        }
      ],
      "source": [
        "a = {'姓名':'陳妘昀','性別':'女','作業分數':[80,95,100,90]}\n",
        "a['學號']='B1206038'\n",
        "a['作業分數'][1]=100\n",
        "del a['作業分數'][0]\n",
        "print(a)\n",
        "總分 = sum(a['作業分數'])\n",
        "平均 = 總分 / len(a['作業分數'])\n",
        "print('平均分數:', 平均)\n"
      ]
    }
  ]
}