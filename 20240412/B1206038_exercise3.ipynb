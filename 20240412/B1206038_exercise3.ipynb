{
  "nbformat": 4,
  "nbformat_minor": 0,
  "metadata": {
    "colab": {
      "provenance": []
    },
    "kernelspec": {
      "name": "python3",
      "display_name": "Python 3"
    },
    "language_info": {
      "name": "python"
    }
  },
  "cells": [
    {
      "cell_type": "code",
      "execution_count": null,
      "metadata": {
        "id": "bGiT5MWfy5lP",
        "colab": {
          "base_uri": "https://localhost:8080/"
        },
        "outputId": "d5a4da14-c26a-46bc-d691-fcd508b6f7ea"
      },
      "outputs": [
        {
          "output_type": "stream",
          "name": "stdout",
          "text": [
            "請輸入身高(cm)150\n",
            "請輸入體重(kg)50\n",
            "BMI: 22.22222222222222\n",
            "體位：適中\n"
          ]
        }
      ],
      "source": [
        "5a=float(input(\"請輸入身高(cm)\"))\n",
        "b=float(input(\"請輸入體重(kg)\"))\n",
        "c=a*0.01\n",
        "c*=c\n",
        "d=b/c\n",
        "print('BMI:',d)\n",
        "\n",
        "if d<18.5:\n",
        " print('體位：過輕')\n",
        "elif 18.5<=d<24:\n",
        " print('體位：適中')\n",
        "elif 24<=d<27:\n",
        " print('體位：過重')\n",
        "else:\n",
        " print('體位：肥胖')"
      ]
    },
    {
      "cell_type": "code",
      "source": [
        "a=float(input(\"請輸入第一個數字\"))\n",
        "b=input(\"請輸入運算符號\")\n",
        "c=float(input(\"請輸入第二個數字\"))\n",
        "d=a+c\n",
        "e=a-c\n",
        "f=a/c\n",
        "g=a*c\n",
        "if b=='+':\n",
        " print(d)\n",
        "elif b=='-':\n",
        " print(e)\n",
        "elif b=='/':\n",
        " print(f)\n",
        "elif b=='*':\n",
        " print(g)"
      ],
      "metadata": {
        "colab": {
          "base_uri": "https://localhost:8080/"
        },
        "id": "DQ2ENFR-7LHG",
        "outputId": "73ba737b-aa79-4681-ac7f-95eaae5de3ec"
      },
      "execution_count": null,
      "outputs": [
        {
          "output_type": "stream",
          "name": "stdout",
          "text": [
            "請輸入第一個數字65\n",
            "請輸入運算符號*\n",
            "請輸入第二個數字5\n",
            "325.0\n"
          ]
        }
      ]
    }
  ]
}