{
  "nbformat": 4,
  "nbformat_minor": 0,
  "metadata": {
    "colab": {
      "provenance": []
    },
    "kernelspec": {
      "name": "python3",
      "display_name": "Python 3"
    },
    "language_info": {
      "name": "python"
    }
  },
  "cells": [
    {
      "cell_type": "code",
      "execution_count": 3,
      "metadata": {
        "colab": {
          "base_uri": "https://localhost:8080/"
        },
        "id": "VaIaxmvzbaI-",
        "outputId": "f4ceec46-0207-4a7b-abd0-db195a3ef589"
      },
      "outputs": [
        {
          "output_type": "stream",
          "name": "stdout",
          "text": [
            "請輸入年分(西元)2004\n",
            "閏年\n"
          ]
        }
      ],
      "source": [
        "a = float(input(\"請輸入年分(西元)\"))\n",
        "if a <= 1582:\n",
        "    if a % 4 == 0:\n",
        "        print(\"閏年\")\n",
        "    else:\n",
        "        print(\"平年\")\n",
        "else:\n",
        "    if a % 4 == 0 and (a % 100 != 0 or a % 400 == 0):\n",
        "        print(\"閏年\")\n",
        "    else:\n",
        "        print(\"平年\")"
      ]
    }
  ]
}