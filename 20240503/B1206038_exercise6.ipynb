{
  "nbformat": 4,
  "nbformat_minor": 0,
  "metadata": {
    "colab": {
      "provenance": []
    },
    "kernelspec": {
      "name": "python3",
      "display_name": "Python 3"
    },
    "language_info": {
      "name": "python"
    }
  },
  "cells": [
    {
      "cell_type": "code",
      "execution_count": 22,
      "metadata": {
        "colab": {
          "base_uri": "https://localhost:8080/"
        },
        "id": "DInfOOaH70S0",
        "outputId": "21c32408-1e15-48d2-b628-024f38e8957a"
      },
      "outputs": [
        {
          "output_type": "stream",
          "name": "stdout",
          "text": [
            "請輸入聖誕樹高度（至少7層）：8\n",
            "       x\n",
            "      xxx\n",
            "     xxxxx\n",
            "    xxxxxxx\n",
            "   xxxxxxxxx\n",
            "  xxxxxxxxxxx\n",
            " xxxxxxxxxxxxx\n",
            "xxxxxxxxxxxxxxx\n",
            "      xxx\n",
            "      xxx\n",
            "      xxx\n",
            "      xxx\n",
            "      xxx\n"
          ]
        }
      ],
      "source": [
        "def a(H):\n",
        "    for i in range(H):\n",
        "      print(\" \" * (H - i - 1) + \"x\" * (2 * i + 1))\n",
        "\n",
        "    樹幹寬 = 3\n",
        "    樹幹高 = 5\n",
        "    樹幹開始 = H - 樹幹高\n",
        "    樹幹縮排 = (H - 樹幹寬) // 2\n",
        "    for _ in range(樹幹高):\n",
        "      print(\"   \" * 樹幹縮排 + \"xxx\")\n",
        "\n",
        "樹幹高 = int(input(\"請輸入聖誕樹高度（至少7層）：\"))\n",
        "a(樹幹高)"
      ]
    },
    {
      "cell_type": "code",
      "source": [
        "def 計算BMI(H, W):\n",
        "    try:\n",
        "        H = float(H) / 100\n",
        "        W = float(W)\n",
        "    except ValueError:\n",
        "        return \"輸入內容錯誤\"\n",
        "\n",
        "    if H <= 0 or W <= 0:\n",
        "        return \"身高或體重不得小於等於零\"\n",
        "\n",
        "    bmi = W / (H ** 2)\n",
        "    if bmi < 18.5:\n",
        "        return f\"您的BMI為{bmi:.2f}，體位：過輕\"\n",
        "    elif bmi < 24:\n",
        "        return f\"您的BMI為{bmi:.2f}，體位：正常\"\n",
        "    elif bmi < 27:\n",
        "        return f\"您的BMI為{bmi:.2f}，體位：過重\"\n",
        "    elif bmi < 30:\n",
        "        return f\"您的BMI為{bmi:.2f}，體位：輕度肥胖\"\n",
        "    elif bmi < 35:\n",
        "        return f\"您的BMI為{bmi:.2f}，體位：中度肥胖\"\n",
        "    else:\n",
        "        return f\"您的BMI為{bmi:.2f}，體位：重度肥胖\"\n",
        "\n",
        "H_input = input(\"請輸入身高（公分）：\")\n",
        "W_input = input(\"請輸入體重（公斤）：\")\n",
        "\n",
        "result = 計算BMI(H_input, W_input)\n",
        "print(result)"
      ],
      "metadata": {
        "colab": {
          "base_uri": "https://localhost:8080/"
        },
        "id": "R8n4WtjpLW_i",
        "outputId": "69dbe0f7-548d-4113-8811-882df1bf18fa"
      },
      "execution_count": 28,
      "outputs": [
        {
          "output_type": "stream",
          "name": "stdout",
          "text": [
            "請輸入身高（公分）：180\n",
            "請輸入體重（公斤）：60\n",
            "您的BMI為18.52，體位：正常\n"
          ]
        }
      ]
    }
  ]
}