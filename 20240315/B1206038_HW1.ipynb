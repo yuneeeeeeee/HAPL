{
  "nbformat": 4,
  "nbformat_minor": 0,
  "metadata": {
    "colab": {
      "provenance": []
    },
    "kernelspec": {
      "name": "python3",
      "display_name": "Python 3"
    },
    "language_info": {
      "name": "python"
    }
  },
  "cells": [
    {
      "cell_type": "code",
      "source": [
        "a=\"I'm a student\"\n",
        "print(a)"
      ],
      "metadata": {
        "colab": {
          "base_uri": "https://localhost:8080/"
        },
        "id": "Fki0hu2omkhq",
        "outputId": "46f471fb-75b2-47c0-aee4-1f120d6e86ae"
      },
      "execution_count": 3,
      "outputs": [
        {
          "output_type": "stream",
          "name": "stdout",
          "text": [
            "I'm a student\n"
          ]
        }
      ]
    },
    {
      "cell_type": "code",
      "execution_count": 1,
      "metadata": {
        "colab": {
          "base_uri": "https://localhost:8080/"
        },
        "id": "AAMTjpC-i40T",
        "outputId": "6acc4e47-ad63-4292-9873-6015ce4812df"
      },
      "outputs": [
        {
          "output_type": "stream",
          "name": "stdout",
          "text": [
            "請輸入A點座標:8 9\n",
            "請輸入B點座標:1 3\n",
            "兩點距離為: 9.219544457292887\n"
          ]
        }
      ],
      "source": [
        "a,b=map(int,input(\"請輸入A點座標:\").split())\n",
        "c,d=map(int,input(\"請輸入B點座標:\").split())\n",
        "x=c-a\n",
        "y=d-b\n",
        "x*=x\n",
        "y*=y\n",
        "z=pow((x+y),0.5)\n",
        "print(\"兩點距離為:\",z)"
      ]
    },
    {
      "cell_type": "code",
      "source": [
        "a=float(input(\"請輸入身高(cm)\"))\n",
        "b=float(input(\"請輸入體重(kg)\"))\n",
        "c=a*0.01\n",
        "c*=c\n",
        "d=b/c\n",
        "print(d)"
      ],
      "metadata": {
        "colab": {
          "base_uri": "https://localhost:8080/"
        },
        "id": "jPrIsGItkR3S",
        "outputId": "df9cd07b-6fda-42e5-9a1b-26393380ba08"
      },
      "execution_count": 2,
      "outputs": [
        {
          "output_type": "stream",
          "name": "stdout",
          "text": [
            "請輸入身高(cm)130\n",
            "請輸入體重(kg)30\n",
            "17.751479289940825\n"
          ]
        }
      ]
    }
  ]
}