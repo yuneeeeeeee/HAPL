{
  "nbformat": 4,
  "nbformat_minor": 0,
  "metadata": {
    "colab": {
      "provenance": []
    },
    "kernelspec": {
      "name": "python3",
      "display_name": "Python 3"
    },
    "language_info": {
      "name": "python"
    }
  },
  "cells": [
    {
      "cell_type": "code",
      "execution_count": 21,
      "metadata": {
        "colab": {
          "base_uri": "https://localhost:8080/"
        },
        "id": "2kzhwuTF4nY7",
        "outputId": "6f28de20-ce77-42bb-e952-ec9803b4f49a"
      },
      "outputs": [
        {
          "output_type": "stream",
          "name": "stdout",
          "text": [
            "1 x 1 = 1\t2 x 1 = 2\t3 x 1 = 3\t4 x 1 = 4\t5 x 1 = 5\t6 x 1 = 6\t7 x 1 = 7\t8 x 1 = 8\t9 x 1 = 9\t\n",
            "1 x 2 = 2\t2 x 2 = 4\t3 x 2 = 6\t4 x 2 = 8\t5 x 2 = 10\t6 x 2 = 12\t7 x 2 = 14\t8 x 2 = 16\t9 x 2 = 18\t\n",
            "1 x 3 = 3\t2 x 3 = 6\t3 x 3 = 9\t4 x 3 = 12\t5 x 3 = 15\t6 x 3 = 18\t7 x 3 = 21\t8 x 3 = 24\t9 x 3 = 27\t\n",
            "1 x 4 = 4\t2 x 4 = 8\t3 x 4 = 12\t4 x 4 = 16\t5 x 4 = 20\t6 x 4 = 24\t7 x 4 = 28\t8 x 4 = 32\t9 x 4 = 36\t\n",
            "1 x 5 = 5\t2 x 5 = 10\t3 x 5 = 15\t4 x 5 = 20\t5 x 5 = 25\t6 x 5 = 30\t7 x 5 = 35\t8 x 5 = 40\t9 x 5 = 45\t\n",
            "1 x 6 = 6\t2 x 6 = 12\t3 x 6 = 18\t4 x 6 = 24\t5 x 6 = 30\t6 x 6 = 36\t7 x 6 = 42\t8 x 6 = 48\t9 x 6 = 54\t\n",
            "1 x 7 = 7\t2 x 7 = 14\t3 x 7 = 21\t4 x 7 = 28\t5 x 7 = 35\t6 x 7 = 42\t7 x 7 = 49\t8 x 7 = 56\t9 x 7 = 63\t\n",
            "1 x 8 = 8\t2 x 8 = 16\t3 x 8 = 24\t4 x 8 = 32\t5 x 8 = 40\t6 x 8 = 48\t7 x 8 = 56\t8 x 8 = 64\t9 x 8 = 72\t\n",
            "1 x 9 = 9\t2 x 9 = 18\t3 x 9 = 27\t4 x 9 = 36\t5 x 9 = 45\t6 x 9 = 54\t7 x 9 = 63\t8 x 9 = 72\t9 x 9 = 81\t\n"
          ]
        }
      ],
      "source": [
        "i=1\n",
        "while i<10:\n",
        "  j=1\n",
        "  while j<10:\n",
        "    print(\"{} x {} = {}\\t\".format(j,i,i*j),end=\"\")\n",
        "    j+=1\n",
        "  print()\n",
        "  i+=1"
      ]
    },
    {
      "cell_type": "code",
      "source": [
        "import random\n",
        "\n",
        "def generate_answer():\n",
        "  answer = random.sample(range(1, 10), 4)\n",
        "  return answer\n",
        "\n",
        "def check_guess(guess, answer):\n",
        "  a = 0\n",
        "  b = 0\n",
        "  for i in range(len(guess)):\n",
        "    if guess[i] == answer[i]:\n",
        "      a+=1\n",
        "    elif guess[i] in answer:\n",
        "      b += 1\n",
        "  return a, b\n",
        "\n",
        "def main():\n",
        "  answer = generate_answer()\n",
        "  print(\"答案:\", answer)\n",
        "\n",
        "  count = 0\n",
        "  while True:\n",
        "    guess_str = input(\"輸入四個數字(不會重複): \")\n",
        "    if len(guess_str) != 4:\n",
        "      print(\"輸入錯誤，請輸入四個數字(不會重複)\")\n",
        "      continue\n",
        "    guess = list(map(int, guess_str))\n",
        "\n",
        "    a, b = check_guess(guess, answer)\n",
        "    print(f\"{guess_str}: {a}A{b}B\")\n",
        "\n",
        "    count += 1\n",
        "\n",
        "    if a == 4:\n",
        "      print(f\"答對了!總共猜了{count}次\")\n",
        "      break\n",
        "\n",
        "if __name__ == \"__main__\":\n",
        "  main()"
      ],
      "metadata": {
        "colab": {
          "base_uri": "https://localhost:8080/"
        },
        "id": "4ONlKGqO62nq",
        "outputId": "24ae3293-7827-461c-ba95-528725d21699"
      },
      "execution_count": 20,
      "outputs": [
        {
          "output_type": "stream",
          "name": "stdout",
          "text": [
            "答案: [7, 5, 9, 4]\n",
            "輸入四個數字(不會重複): 9632\n",
            "9632: 0A1B\n",
            "輸入四個數字(不會重複): 7596\n",
            "7596: 3A0B\n",
            "輸入四個數字(不會重複): 7594\n",
            "7594: 4A0B\n",
            "答對了!總共猜了3次\n"
          ]
        }
      ]
    }
  ]
}